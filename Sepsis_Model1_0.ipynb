{
  "nbformat": 4,
  "nbformat_minor": 0,
  "metadata": {
    "colab": {
      "name": "Sepsis_Model1.0",
      "provenance": [],
      "mount_file_id": "1KYJE-fZNI-NmnNV0i7J-XY4gVOlY_DIA",
      "authorship_tag": "ABX9TyO4/y43CnhSrFJdgokOW3Dt",
      "include_colab_link": true
    },
    "kernelspec": {
      "name": "python3",
      "display_name": "Python 3"
    }
  },
  "cells": [
    {
      "cell_type": "markdown",
      "metadata": {
        "id": "view-in-github",
        "colab_type": "text"
      },
      "source": [
        "<a href=\"https://colab.research.google.com/github/Sukanthen/Sepsis-Onset-Prediction/blob/master/Sepsis_Model1_0.ipynb\" target=\"_parent\"><img src=\"https://colab.research.google.com/assets/colab-badge.svg\" alt=\"Open In Colab\"/></a>"
      ]
    },
    {
      "cell_type": "code",
      "metadata": {
        "id": "UEQWn_8HZtk5",
        "colab_type": "code",
        "colab": {}
      },
      "source": [
        "import os\n",
        "import numpy as np\n",
        "import pandas as pd\n",
        "from sklearn import model_selection\n",
        "from sklearn.pipeline import Pipeline\n",
        "from sklearn.impute import SimpleImputer\n",
        "from sklearn.preprocessing import StandardScaler\n",
        "from sklearn.model_selection import train_test_split\n",
        "from imblearn.over_sampling import SMOTE\n",
        "from imblearn.under_sampling import NearMiss\n",
        "from sklearn.metrics import roc_auc_score,accuracy_score,confusion_matrix,classification_report\n",
        "from sklearn.ensemble import RandomForestClassifier\n",
        "from sklearn.tree import DecisionTreeClassifier\n",
        "from sklearn.linear_model import LogisticRegression,SGDClassifier"
      ],
      "execution_count": 76,
      "outputs": []
    },
    {
      "cell_type": "code",
      "metadata": {
        "id": "M0v1Le9eaX5h",
        "colab_type": "code",
        "colab": {}
      },
      "source": [
        "df1 = pd.read_csv('/content/drive/My Drive/sepsisa.csv')\n",
        "df2 = pd.read_csv('/content/drive/My Drive/sepsisb.csv')"
      ],
      "execution_count": 77,
      "outputs": []
    },
    {
      "cell_type": "code",
      "metadata": {
        "id": "UALmDU7bappP",
        "colab_type": "code",
        "colab": {
          "base_uri": "https://localhost:8080/",
          "height": 34
        },
        "outputId": "c1558bed-0670-4350-867b-6edb8420bf43"
      },
      "source": [
        "df1.shape,df2.shape"
      ],
      "execution_count": 78,
      "outputs": [
        {
          "output_type": "execute_result",
          "data": {
            "text/plain": [
              "((790161, 13), (761995, 13))"
            ]
          },
          "metadata": {
            "tags": []
          },
          "execution_count": 78
        }
      ]
    },
    {
      "cell_type": "code",
      "metadata": {
        "id": "nMwKsOWVdlhB",
        "colab_type": "code",
        "colab": {}
      },
      "source": [
        "df = pd.concat([df1,df2],axis=0)"
      ],
      "execution_count": 79,
      "outputs": []
    },
    {
      "cell_type": "code",
      "metadata": {
        "id": "fdIbdPwX0vc7",
        "colab_type": "code",
        "colab": {}
      },
      "source": [
        "class info:\n",
        "  def __init__(self,data):\n",
        "    self.df=df\n",
        "    print('1) Number of columns are         : ',data.shape[1])\n",
        "    print('2) Number of rows are            : ',data.shape[0])\n",
        "    print('3) Total number of data-points   :',data.size)\n",
        "    numerical_features = [f for f in data.columns if data[f].dtypes!='O']\n",
        "    print('4) Count of Numerical Features   :',len(numerical_features))\n",
        "    cat_features = [c for c in data.columns if data[c].dtypes=='O']\n",
        "    print('5) Count of Categorical Features :',len(cat_features))\n",
        "  \n",
        "  def missing_values(self,data):\n",
        "    print('6) Missing values Estimation   :')\n",
        "    for i in data.columns:\n",
        "      if data[i].isna().sum()>0:\n",
        "        print('The Feature ',i,' has '+ str(data[i].isna().sum()) + ' missing values')"
      ],
      "execution_count": 80,
      "outputs": []
    },
    {
      "cell_type": "code",
      "metadata": {
        "id": "Trhd0IVT1Dqo",
        "colab_type": "code",
        "colab": {
          "base_uri": "https://localhost:8080/",
          "height": 269
        },
        "outputId": "b39f9b01-176e-4283-d1f1-84e83138e7b0"
      },
      "source": [
        "a = info(df)\n",
        "a.missing_values(df)"
      ],
      "execution_count": 81,
      "outputs": [
        {
          "output_type": "stream",
          "text": [
            "1) Number of columns are         :  13\n",
            "2) Number of rows are            :  1552156\n",
            "3) Total number of data-points   : 20178028\n",
            "4) Count of Numerical Features   : 13\n",
            "5) Count of Categorical Features : 0\n",
            "6) Missing values Estimation   :\n",
            "The Feature  HR  has 153394 missing values\n",
            "The Feature  O2Sat  has 202726 missing values\n",
            "The Feature  Temp  has 1026940 missing values\n",
            "The Feature  SBP  has 226253 missing values\n",
            "The Feature  MAP  has 193258 missing values\n",
            "The Feature  DBP  has 486500 missing values\n",
            "The Feature  Resp  has 238331 missing values\n",
            "The Feature  pH  has 1444590 missing values\n",
            "The Feature  HospAdmTime  has 8 missing values\n"
          ],
          "name": "stdout"
        }
      ]
    },
    {
      "cell_type": "code",
      "metadata": {
        "id": "ndSSuBQJ9loa",
        "colab_type": "code",
        "colab": {
          "base_uri": "https://localhost:8080/",
          "height": 34
        },
        "outputId": "c3ca4fc0-96ba-452c-e642-fba5a9b1f04c"
      },
      "source": [
        "X = df.drop(columns=['SepsisLabel'],axis=1)\n",
        "y = df['SepsisLabel']\n",
        "X.shape,y.shape"
      ],
      "execution_count": 82,
      "outputs": [
        {
          "output_type": "execute_result",
          "data": {
            "text/plain": [
              "((1552156, 12), (1552156,))"
            ]
          },
          "metadata": {
            "tags": []
          },
          "execution_count": 82
        }
      ]
    },
    {
      "cell_type": "code",
      "metadata": {
        "id": "w9w6WU8i_iP9",
        "colab_type": "code",
        "colab": {
          "base_uri": "https://localhost:8080/",
          "height": 50
        },
        "outputId": "6bb5dcc7-9420-4a88-fab7-6666e5bc22cf"
      },
      "source": [
        "X = df.drop(columns=['SepsisLabel'],axis=1)\n",
        "y = df['SepsisLabel']\n",
        "print('Dimension of X : ',X.shape,'Dimension of y :',y.shape)\n",
        "#Imputing missing values\n",
        "imputer = SimpleImputer(strategy=\"median\")\n",
        "imputer.fit(X)\n",
        "X = imputer.transform(X)\n",
        "# Train-Test splitting process\n",
        "x_train,x_test,y_train,y_test = train_test_split(X,y,test_size = 0.20)\n",
        "print(x_train.shape,x_test.shape,y_train.shape,y_test.shape)"
      ],
      "execution_count": 83,
      "outputs": [
        {
          "output_type": "stream",
          "text": [
            "Dimension of X :  (1552156, 12) Dimension of y : (1552156,)\n",
            "(1241724, 12) (310432, 12) (1241724,) (310432,)\n"
          ],
          "name": "stdout"
        }
      ]
    },
    {
      "cell_type": "code",
      "metadata": {
        "id": "xcggO59TBo5P",
        "colab_type": "code",
        "colab": {}
      },
      "source": [
        "model =   RandomForestClassifier()\n",
        "model.fit(x_train,y_train)\n",
        "pred = model.predict(x_test)"
      ],
      "execution_count": 84,
      "outputs": []
    },
    {
      "cell_type": "code",
      "metadata": {
        "id": "dsOZjzI15m28",
        "colab_type": "code",
        "colab": {}
      },
      "source": [
        "def evaluation_metrics(pred,y_test):\n",
        "  print('The Accuracy-score of the model is :',accuracy_score(pred,y_test))\n",
        "  print('The AUROC score of the classifier model is :',roc_auc_score(pred,y_test))\n",
        "  print('The confusion matrix is :')\n",
        "  print(confusion_matrix(pred,y_test))\n",
        "  print('Classification Report :')\n",
        "  print(classification_report(pred,y_test))"
      ],
      "execution_count": 85,
      "outputs": []
    },
    {
      "cell_type": "code",
      "metadata": {
        "id": "tbRoLCPjR8uO",
        "colab_type": "code",
        "colab": {
          "base_uri": "https://localhost:8080/",
          "height": 269
        },
        "outputId": "d0651fdb-a793-4390-8034-a4acce0dc255"
      },
      "source": [
        "evaluation_metrics(pred,y_test)"
      ],
      "execution_count": 86,
      "outputs": [
        {
          "output_type": "stream",
          "text": [
            "The Accuracy-score of the model is : 0.9833200185547881\n",
            "The AUROC score of the classifier model is : 0.9412941012303744\n",
            "The confusion matrix is :\n",
            "[[304835   5131]\n",
            " [    47    419]]\n",
            "Classification Report :\n",
            "              precision    recall  f1-score   support\n",
            "\n",
            "           0       1.00      0.98      0.99    309966\n",
            "           1       0.08      0.90      0.14       466\n",
            "\n",
            "    accuracy                           0.98    310432\n",
            "   macro avg       0.54      0.94      0.57    310432\n",
            "weighted avg       1.00      0.98      0.99    310432\n",
            "\n"
          ],
          "name": "stdout"
        }
      ]
    },
    {
      "cell_type": "code",
      "metadata": {
        "id": "QH1IA-ECvIU-",
        "colab_type": "code",
        "colab": {
          "base_uri": "https://localhost:8080/",
          "height": 195
        },
        "outputId": "3875bcea-ab37-4eef-bb42-03c2351c3e96"
      },
      "source": [
        "a=pd.DataFrame(y_test)\n",
        "a.head()"
      ],
      "execution_count": 90,
      "outputs": [
        {
          "output_type": "execute_result",
          "data": {
            "text/html": [
              "<div>\n",
              "<style scoped>\n",
              "    .dataframe tbody tr th:only-of-type {\n",
              "        vertical-align: middle;\n",
              "    }\n",
              "\n",
              "    .dataframe tbody tr th {\n",
              "        vertical-align: top;\n",
              "    }\n",
              "\n",
              "    .dataframe thead th {\n",
              "        text-align: right;\n",
              "    }\n",
              "</style>\n",
              "<table border=\"1\" class=\"dataframe\">\n",
              "  <thead>\n",
              "    <tr style=\"text-align: right;\">\n",
              "      <th></th>\n",
              "      <th>SepsisLabel</th>\n",
              "    </tr>\n",
              "  </thead>\n",
              "  <tbody>\n",
              "    <tr>\n",
              "      <th>664740</th>\n",
              "      <td>0</td>\n",
              "    </tr>\n",
              "    <tr>\n",
              "      <th>13030</th>\n",
              "      <td>0</td>\n",
              "    </tr>\n",
              "    <tr>\n",
              "      <th>635325</th>\n",
              "      <td>0</td>\n",
              "    </tr>\n",
              "    <tr>\n",
              "      <th>306071</th>\n",
              "      <td>0</td>\n",
              "    </tr>\n",
              "    <tr>\n",
              "      <th>434197</th>\n",
              "      <td>0</td>\n",
              "    </tr>\n",
              "  </tbody>\n",
              "</table>\n",
              "</div>"
            ],
            "text/plain": [
              "        SepsisLabel\n",
              "664740            0\n",
              "13030             0\n",
              "635325            0\n",
              "306071            0\n",
              "434197            0"
            ]
          },
          "metadata": {
            "tags": []
          },
          "execution_count": 90
        }
      ]
    },
    {
      "cell_type": "code",
      "metadata": {
        "id": "ODRGoR4WvuOq",
        "colab_type": "code",
        "colab": {
          "base_uri": "https://localhost:8080/",
          "height": 67
        },
        "outputId": "c1081628-6d4d-46d1-dc4b-22d6cc4cda0b"
      },
      "source": [
        "a['SepsisLabel'].value_counts()"
      ],
      "execution_count": 91,
      "outputs": [
        {
          "output_type": "execute_result",
          "data": {
            "text/plain": [
              "0    304882\n",
              "1      5550\n",
              "Name: SepsisLabel, dtype: int64"
            ]
          },
          "metadata": {
            "tags": []
          },
          "execution_count": 91
        }
      ]
    }
  ]
}